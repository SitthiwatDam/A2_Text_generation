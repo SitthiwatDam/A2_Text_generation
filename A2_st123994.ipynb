{
 "cells": [
  {
   "cell_type": "markdown",
   "metadata": {},
   "source": [
    "# NLP:Assignment 2 Text Generation\n",
    "Name: Sitthiwat Damrongpreechar <br>\n",
    "Student ID: st123994"
   ]
  },
  {
   "cell_type": "code",
   "execution_count": null,
   "metadata": {},
   "outputs": [],
   "source": []
  }
 ],
 "metadata": {
  "language_info": {
   "name": "python"
  }
 },
 "nbformat": 4,
 "nbformat_minor": 2
}
